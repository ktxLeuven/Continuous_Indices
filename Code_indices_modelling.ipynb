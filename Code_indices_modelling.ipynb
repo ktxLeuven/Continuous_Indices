{
 "cells": [
  {
   "cell_type": "markdown",
   "id": "1b76c2f0",
   "metadata": {},
   "source": [
    "# Computing continuous indices from Banff scores\n",
    "\n",
    "Author: Thibaut Vaulet\n",
    "\n",
    "Date: May 2025\n",
    "\n",
    "This notebook provides a minimal working example to reproduce the modeling of continuous indices, as described in the paper: _Continuous indices to assess the phenotypic spectrum of kidney transplant rejection_ by Vaulet et al."
   ]
  },
  {
   "cell_type": "code",
   "execution_count": 1,
   "id": "82ff4c85",
   "metadata": {},
   "outputs": [],
   "source": [
    "import pandas as pd\n",
    "from statsmodels.miscmodels.ordinal_model import OrderedModel"
   ]
  },
  {
   "cell_type": "markdown",
   "id": "814a5c78",
   "metadata": {},
   "source": [
    "## 1. Data loading\n",
    "Load a minimal working example dataset of 300 biopsies that captures the key structure needed to run the model.\n"
   ]
  },
  {
   "cell_type": "code",
   "execution_count": 2,
   "id": "de4143eb",
   "metadata": {},
   "outputs": [],
   "source": [
    "df=pd.read_excel('minimalDF.xlsx',index_col=0)"
   ]
  },
  {
   "cell_type": "markdown",
   "id": "feb0da85",
   "metadata": {},
   "source": [
    "## 2. Compute indices"
   ]
  },
  {
   "cell_type": "markdown",
   "id": "8af84219",
   "metadata": {},
   "source": [
    "### AMR/MVI index\n",
    "In this example, we compute the optimal AMR/MVI index based on 4 lesion scores: g, ptc, cg and C4d.\n",
    "We use the `OrderedModel` class to estimate a continuous latent variable representing the AMR continuum underlying the observed binary outcome (AMR vs. no AMR). Note that `OrderedModel` naturally extends beyond binary classification to handle ordinal outcomes."
   ]
  },
  {
   "cell_type": "code",
   "execution_count": 3,
   "id": "c3ec24fc",
   "metadata": {},
   "outputs": [
    {
     "name": "stdout",
     "output_type": "stream",
     "text": [
      "Optimization terminated successfully.\n",
      "         Current function value: 0.069911\n",
      "         Iterations: 27\n",
      "         Function evaluations: 28\n",
      "         Gradient evaluations: 28\n"
     ]
    },
    {
     "data": {
      "text/html": [
       "<table class=\"simpletable\">\n",
       "<caption>OrderedModel Results</caption>\n",
       "<tr>\n",
       "  <th>Dep. Variable:</th>            <td>AMR</td>        <th>  Log-Likelihood:    </th> <td> -20.973</td>\n",
       "</tr>\n",
       "<tr>\n",
       "  <th>Model:</th>               <td>OrderedModel</td>    <th>  AIC:               </th> <td>   51.95</td>\n",
       "</tr>\n",
       "<tr>\n",
       "  <th>Method:</th>           <td>Maximum Likelihood</td> <th>  BIC:               </th> <td>   70.47</td>\n",
       "</tr>\n",
       "<tr>\n",
       "  <th>Date:</th>              <td>Thu, 22 May 2025</td>  <th>                     </th>     <td> </td>   \n",
       "</tr>\n",
       "<tr>\n",
       "  <th>Time:</th>                  <td>11:14:54</td>      <th>                     </th>     <td> </td>   \n",
       "</tr>\n",
       "<tr>\n",
       "  <th>No. Observations:</th>       <td>   300</td>       <th>                     </th>     <td> </td>   \n",
       "</tr>\n",
       "<tr>\n",
       "  <th>Df Residuals:</th>           <td>   295</td>       <th>                     </th>     <td> </td>   \n",
       "</tr>\n",
       "<tr>\n",
       "  <th>Df Model:</th>               <td>     5</td>       <th>                     </th>     <td> </td>   \n",
       "</tr>\n",
       "</table>\n",
       "<table class=\"simpletable\">\n",
       "<tr>\n",
       "   <td></td>      <th>coef</th>     <th>std err</th>      <th>z</th>      <th>P>|z|</th>  <th>[0.025</th>    <th>0.975]</th>  \n",
       "</tr>\n",
       "<tr>\n",
       "  <th>g</th>   <td>    0.8634</td> <td>    0.210</td> <td>    4.104</td> <td> 0.000</td> <td>    0.451</td> <td>    1.276</td>\n",
       "</tr>\n",
       "<tr>\n",
       "  <th>ptc</th> <td>    0.5527</td> <td>    0.242</td> <td>    2.288</td> <td> 0.022</td> <td>    0.079</td> <td>    1.026</td>\n",
       "</tr>\n",
       "<tr>\n",
       "  <th>cg</th>  <td>    0.6165</td> <td>    0.252</td> <td>    2.443</td> <td> 0.015</td> <td>    0.122</td> <td>    1.111</td>\n",
       "</tr>\n",
       "<tr>\n",
       "  <th>C4d</th> <td>    2.3535</td> <td>    0.529</td> <td>    4.453</td> <td> 0.000</td> <td>    1.318</td> <td>    3.389</td>\n",
       "</tr>\n",
       "<tr>\n",
       "  <th>0/1</th> <td>    3.0429</td> <td>    0.430</td> <td>    7.082</td> <td> 0.000</td> <td>    2.201</td> <td>    3.885</td>\n",
       "</tr>\n",
       "</table>"
      ],
      "text/plain": [
       "<class 'statsmodels.iolib.summary.Summary'>\n",
       "\"\"\"\n",
       "                             OrderedModel Results                             \n",
       "==============================================================================\n",
       "Dep. Variable:                    AMR   Log-Likelihood:                -20.973\n",
       "Model:                   OrderedModel   AIC:                             51.95\n",
       "Method:            Maximum Likelihood   BIC:                             70.47\n",
       "Date:                Thu, 22 May 2025                                         \n",
       "Time:                        11:14:54                                         \n",
       "No. Observations:                 300                                         \n",
       "Df Residuals:                     295                                         \n",
       "Df Model:                           5                                         \n",
       "==============================================================================\n",
       "                 coef    std err          z      P>|z|      [0.025      0.975]\n",
       "------------------------------------------------------------------------------\n",
       "g              0.8634      0.210      4.104      0.000       0.451       1.276\n",
       "ptc            0.5527      0.242      2.288      0.022       0.079       1.026\n",
       "cg             0.6165      0.252      2.443      0.015       0.122       1.111\n",
       "C4d            2.3535      0.529      4.453      0.000       1.318       3.389\n",
       "0/1            3.0429      0.430      7.082      0.000       2.201       3.885\n",
       "==============================================================================\n",
       "\"\"\""
      ]
     },
     "execution_count": 3,
     "metadata": {},
     "output_type": "execute_result"
    }
   ],
   "source": [
    "outcome='AMR'  #binary indicator AMR vs no AMR\n",
    "lesions= ['g', 'ptc', 'cg','C4d']\n",
    "\n",
    "mod_prob = OrderedModel(df[outcome],df[lesions],distr='probit')\n",
    "\n",
    "res_prob = mod_prob.fit(method='bfgs')\n",
    "predicted = res_prob.model.predict(res_prob.params, exog=df[lesions].values,which='linpred') #exctract predictions\n",
    "res_prob.summary()"
   ]
  },
  {
   "cell_type": "markdown",
   "id": "a776e2b6",
   "metadata": {},
   "source": [
    "0/1 correspsonds to the optimized discretization cut-off value \n",
    "\n",
    "Note that similar results can be obtained in R using the following code (binary outcome only):\n",
    "\n",
    "`%R modelAMR <- glm(AMR ~ g+cg+ptc+C4d , family = binomial(link = \"probit\"), data = df)`"
   ]
  },
  {
   "cell_type": "markdown",
   "id": "97e70785",
   "metadata": {},
   "source": [
    "#### Re-scale index to the [0-10] interval "
   ]
  },
  {
   "cell_type": "code",
   "execution_count": 4,
   "id": "7675cd94",
   "metadata": {},
   "outputs": [],
   "source": [
    "#compute theoretical maximal value, if all lesions are at maximum values:\n",
    "maxV=3*0.863372+3* 0.552672+3*0.616468+1*2.353500"
   ]
  },
  {
   "cell_type": "code",
   "execution_count": 5,
   "id": "5a0fa9c1",
   "metadata": {},
   "outputs": [
    {
     "data": {
      "text/plain": [
       "g      1.021616\n",
       "ptc    0.653969\n",
       "cg     0.729459\n",
       "C4d    2.784865\n",
       "dtype: float64"
      ]
     },
     "execution_count": 5,
     "metadata": {},
     "output_type": "execute_result"
    }
   ],
   "source": [
    "#rescale coefficients\n",
    "scaledCoef=res_prob.params[:-1]*10/maxV\n",
    "scaledCoef"
   ]
  },
  {
   "cell_type": "markdown",
   "id": "68ad9c64",
   "metadata": {},
   "source": [
    "--> formula for AMR/MVI index (on this toy dataset): 1.022 x g +0.654 x ptc +0.729 x cg +2.785 x C4d"
   ]
  },
  {
   "cell_type": "markdown",
   "id": "ab08e79b",
   "metadata": {},
   "source": [
    "### TCMR/TI index"
   ]
  },
  {
   "cell_type": "code",
   "execution_count": 6,
   "id": "439e7539",
   "metadata": {},
   "outputs": [
    {
     "name": "stdout",
     "output_type": "stream",
     "text": [
      "Optimization terminated successfully.\n",
      "         Current function value: 0.090804\n",
      "         Iterations: 27\n",
      "         Function evaluations: 28\n",
      "         Gradient evaluations: 28\n"
     ]
    },
    {
     "data": {
      "text/html": [
       "<table class=\"simpletable\">\n",
       "<caption>OrderedModel Results</caption>\n",
       "<tr>\n",
       "  <th>Dep. Variable:</th>           <td>TCMR</td>        <th>  Log-Likelihood:    </th> <td> -27.241</td>\n",
       "</tr>\n",
       "<tr>\n",
       "  <th>Model:</th>               <td>OrderedModel</td>    <th>  AIC:               </th> <td>   64.48</td>\n",
       "</tr>\n",
       "<tr>\n",
       "  <th>Method:</th>           <td>Maximum Likelihood</td> <th>  BIC:               </th> <td>   83.00</td>\n",
       "</tr>\n",
       "<tr>\n",
       "  <th>Date:</th>              <td>Thu, 22 May 2025</td>  <th>                     </th>     <td> </td>   \n",
       "</tr>\n",
       "<tr>\n",
       "  <th>Time:</th>                  <td>11:15:01</td>      <th>                     </th>     <td> </td>   \n",
       "</tr>\n",
       "<tr>\n",
       "  <th>No. Observations:</th>       <td>   300</td>       <th>                     </th>     <td> </td>   \n",
       "</tr>\n",
       "<tr>\n",
       "  <th>Df Residuals:</th>           <td>   295</td>       <th>                     </th>     <td> </td>   \n",
       "</tr>\n",
       "<tr>\n",
       "  <th>Df Model:</th>               <td>     5</td>       <th>                     </th>     <td> </td>   \n",
       "</tr>\n",
       "</table>\n",
       "<table class=\"simpletable\">\n",
       "<tr>\n",
       "   <td></td>      <th>coef</th>     <th>std err</th>      <th>z</th>      <th>P>|z|</th>  <th>[0.025</th>    <th>0.975]</th>  \n",
       "</tr>\n",
       "<tr>\n",
       "  <th>t</th>   <td>    0.6865</td> <td>    0.299</td> <td>    2.296</td> <td> 0.022</td> <td>    0.100</td> <td>    1.273</td>\n",
       "</tr>\n",
       "<tr>\n",
       "  <th>i</th>   <td>    0.8022</td> <td>    0.226</td> <td>    3.549</td> <td> 0.000</td> <td>    0.359</td> <td>    1.245</td>\n",
       "</tr>\n",
       "<tr>\n",
       "  <th>v</th>   <td>    2.8842</td> <td>    0.573</td> <td>    5.037</td> <td> 0.000</td> <td>    1.762</td> <td>    4.007</td>\n",
       "</tr>\n",
       "<tr>\n",
       "  <th>ct</th>  <td>    0.6252</td> <td>    0.275</td> <td>    2.276</td> <td> 0.023</td> <td>    0.087</td> <td>    1.164</td>\n",
       "</tr>\n",
       "<tr>\n",
       "  <th>0/1</th> <td>    4.0652</td> <td>    0.692</td> <td>    5.879</td> <td> 0.000</td> <td>    2.710</td> <td>    5.421</td>\n",
       "</tr>\n",
       "</table>"
      ],
      "text/plain": [
       "<class 'statsmodels.iolib.summary.Summary'>\n",
       "\"\"\"\n",
       "                             OrderedModel Results                             \n",
       "==============================================================================\n",
       "Dep. Variable:                   TCMR   Log-Likelihood:                -27.241\n",
       "Model:                   OrderedModel   AIC:                             64.48\n",
       "Method:            Maximum Likelihood   BIC:                             83.00\n",
       "Date:                Thu, 22 May 2025                                         \n",
       "Time:                        11:15:01                                         \n",
       "No. Observations:                 300                                         \n",
       "Df Residuals:                     295                                         \n",
       "Df Model:                           5                                         \n",
       "==============================================================================\n",
       "                 coef    std err          z      P>|z|      [0.025      0.975]\n",
       "------------------------------------------------------------------------------\n",
       "t              0.6865      0.299      2.296      0.022       0.100       1.273\n",
       "i              0.8022      0.226      3.549      0.000       0.359       1.245\n",
       "v              2.8842      0.573      5.037      0.000       1.762       4.007\n",
       "ct             0.6252      0.275      2.276      0.023       0.087       1.164\n",
       "0/1            4.0652      0.692      5.879      0.000       2.710       5.421\n",
       "==============================================================================\n",
       "\"\"\""
      ]
     },
     "execution_count": 6,
     "metadata": {},
     "output_type": "execute_result"
    }
   ],
   "source": [
    "#example with TCMR\n",
    "outcome='TCMR'  #binary indicator TCMR vs no TCMR\n",
    "lesions= ['t', 'i', 'v','ct']\n",
    "\n",
    "mod_probTCMR = OrderedModel(df[outcome],df[lesions],distr='probit')\n",
    "\n",
    "res_probTCMR = mod_probTCMR.fit(method='bfgs')\n",
    "res_probTCMR.summary()"
   ]
  },
  {
   "cell_type": "code",
   "execution_count": 7,
   "id": "712cc540",
   "metadata": {},
   "outputs": [],
   "source": [
    "#compute theoretical maximal value, if all lesions are at maximum values:\n",
    "maxV_TCMR=3*0.6865+3*0.8022+3*2.8842+3*0.6252"
   ]
  },
  {
   "cell_type": "code",
   "execution_count": 8,
   "id": "dade7f90",
   "metadata": {},
   "outputs": [
    {
     "data": {
      "text/plain": [
       "t     0.457818\n",
       "i     0.535001\n",
       "v     1.923549\n",
       "ct    0.416941\n",
       "dtype: float64"
      ]
     },
     "execution_count": 8,
     "metadata": {},
     "output_type": "execute_result"
    }
   ],
   "source": [
    "#rescale coefficients\n",
    "scaledCoefTCMR=res_probTCMR.params[:-1]*10/maxV_TCMR\n",
    "scaledCoefTCMR"
   ]
  },
  {
   "cell_type": "markdown",
   "id": "8fe8c8ac",
   "metadata": {},
   "source": [
    "\n",
    "--> formula for TCMR/TI index (on this toy dataset): 0.458 x t + 0.535 x i + 1.924 x v + 0.417 x ct"
   ]
  },
  {
   "cell_type": "markdown",
   "id": "b0ffa5cb",
   "metadata": {},
   "source": [
    "## 3. Compute existing indices on a given dataset\n",
    "Based on the formulas described in the paper. A quick way to compute the indices from a formula is to use the `eval()` function of pandas dataframe."
   ]
  },
  {
   "cell_type": "code",
   "execution_count": 9,
   "id": "3575c4f1",
   "metadata": {},
   "outputs": [],
   "source": [
    "#formulas:\n",
    "fAI='g+t+i+v+ptc+2*C4d'\n",
    "fCI='2*cg+ci+ct+cv'\n",
    "fAMRindex='g*0.938 +ptc*0.762 +cg*0.728 +C4d*2.716'\n",
    "fTCMRindex='i*0.970+t*0.623+v*1.540+ct*0.195'"
   ]
  },
  {
   "cell_type": "code",
   "execution_count": 10,
   "id": "4d0a9551",
   "metadata": {},
   "outputs": [],
   "source": [
    "df['ActivityIndex']=df[['v','i','t','C4d','ptc','g']].eval(fAI)\n",
    "df['ChronicityIndex']=df[['ci','ct','cg','cv']].eval(fCI)\n",
    "df['TCMRindex']=df[['v','i','t','ct']].eval(fTCMRindex)\n",
    "df['AMRindex']=df[['g','ptc','cg','C4d']].eval(fAMRindex)"
   ]
  },
  {
   "cell_type": "code",
   "execution_count": 15,
   "id": "25a1f4e6",
   "metadata": {},
   "outputs": [
    {
     "data": {
      "text/plain": [
       "<Axes: ylabel='Density'>"
      ]
     },
     "execution_count": 15,
     "metadata": {},
     "output_type": "execute_result"
    },
    {
     "data": {
      "image/png": "[encoded data removed]",
      "text/plain": [
       "<Figure size 432x288 with 1 Axes>"
      ]
     },
     "metadata": {
      "needs_background": "light"
     },
     "output_type": "display_data"
    }
   ],
   "source": [
    "df[['ActivityIndex','ChronicityIndex','TCMRindex','AMRindex']].plot.kde()"
   ]
  },
  {
   "cell_type": "code",
   "execution_count": 17,
   "id": "a919ef0c",
   "metadata": {},
   "outputs": [
    {
     "data": {
      "text/html": [
       "<div>\n",
       "<style scoped>\n",
       "    .dataframe tbody tr th:only-of-type {\n",
       "        vertical-align: middle;\n",
       "    }\n",
       "\n",
       "    .dataframe tbody tr th {\n",
       "        vertical-align: top;\n",
       "    }\n",
       "\n",
       "    .dataframe thead th {\n",
       "        text-align: right;\n",
       "    }\n",
       "</style>\n",
       "<table border=\"1\" class=\"dataframe\">\n",
       "  <thead>\n",
       "    <tr style=\"text-align: right;\">\n",
       "      <th></th>\n",
       "      <th>count</th>\n",
       "      <th>mean</th>\n",
       "      <th>std</th>\n",
       "      <th>min</th>\n",
       "      <th>25%</th>\n",
       "      <th>50%</th>\n",
       "      <th>75%</th>\n",
       "      <th>max</th>\n",
       "    </tr>\n",
       "  </thead>\n",
       "  <tbody>\n",
       "    <tr>\n",
       "      <th>ActivityIndex</th>\n",
       "      <td>300.0</td>\n",
       "      <td>1.443333</td>\n",
       "      <td>1.863248</td>\n",
       "      <td>0.0</td>\n",
       "      <td>0.000</td>\n",
       "      <td>1.000</td>\n",
       "      <td>2.000</td>\n",
       "      <td>9.000</td>\n",
       "    </tr>\n",
       "    <tr>\n",
       "      <th>ChronicityIndex</th>\n",
       "      <td>300.0</td>\n",
       "      <td>2.486667</td>\n",
       "      <td>1.853269</td>\n",
       "      <td>0.0</td>\n",
       "      <td>1.000</td>\n",
       "      <td>2.000</td>\n",
       "      <td>3.000</td>\n",
       "      <td>10.000</td>\n",
       "    </tr>\n",
       "    <tr>\n",
       "      <th>TCMRindex</th>\n",
       "      <td>300.0</td>\n",
       "      <td>0.898783</td>\n",
       "      <td>1.226452</td>\n",
       "      <td>0.0</td>\n",
       "      <td>0.195</td>\n",
       "      <td>0.585</td>\n",
       "      <td>1.013</td>\n",
       "      <td>6.904</td>\n",
       "    </tr>\n",
       "    <tr>\n",
       "      <th>AMRindex</th>\n",
       "      <td>300.0</td>\n",
       "      <td>0.540260</td>\n",
       "      <td>1.273484</td>\n",
       "      <td>0.0</td>\n",
       "      <td>0.000</td>\n",
       "      <td>0.000</td>\n",
       "      <td>0.000</td>\n",
       "      <td>7.054</td>\n",
       "    </tr>\n",
       "  </tbody>\n",
       "</table>\n",
       "</div>"
      ],
      "text/plain": [
       "                 count      mean       std  min    25%    50%    75%     max\n",
       "ActivityIndex    300.0  1.443333  1.863248  0.0  0.000  1.000  2.000   9.000\n",
       "ChronicityIndex  300.0  2.486667  1.853269  0.0  1.000  2.000  3.000  10.000\n",
       "TCMRindex        300.0  0.898783  1.226452  0.0  0.195  0.585  1.013   6.904\n",
       "AMRindex         300.0  0.540260  1.273484  0.0  0.000  0.000  0.000   7.054"
      ]
     },
     "execution_count": 17,
     "metadata": {},
     "output_type": "execute_result"
    }
   ],
   "source": [
    "df[['ActivityIndex','ChronicityIndex','TCMRindex','AMRindex']].describe().T"
   ]
  },
  {
   "cell_type": "code",
   "execution_count": null,
   "id": "d2f6ec4b",
   "metadata": {},
   "outputs": [],
   "source": []
  }
 ],
 "metadata": {
  "kernelspec": {
   "display_name": "Python 3 (ipykernel)",
   "language": "python",
   "name": "python3"
  },
  "language_info": {
   "codemirror_mode": {
    "name": "ipython",
    "version": 3
   },
   "file_extension": ".py",
   "mimetype": "text/x-python",
   "name": "python",
   "nbconvert_exporter": "python",
   "pygments_lexer": "ipython3",
   "version": "3.9.7"
  }
 },
 "nbformat": 4,
 "nbformat_minor": 5
}
